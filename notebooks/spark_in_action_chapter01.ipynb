{
 "cells": [
  {
   "cell_type": "code",
   "execution_count": 1,
   "id": "03853350-4ae6-4eb9-9111-8fa92c19601a",
   "metadata": {},
   "outputs": [
    {
     "name": "stdout",
     "output_type": "stream",
     "text": [
      "+---+--------+--------------------+-----------+--------------------+\n",
      "| id|authorId|               title|releaseDate|                link|\n",
      "+---+--------+--------------------+-----------+--------------------+\n",
      "|  1|       1|Fantastic Beasts ...|   11/18/16|http://amzn.to/2k...|\n",
      "|  2|       1|Harry Potter and ...|    10/6/15|http://amzn.to/2l...|\n",
      "|  3|       1|The Tales of Beed...|    12/4/08|http://amzn.to/2k...|\n",
      "|  4|       1|Harry Potter and ...|    10/4/16|http://amzn.to/2k...|\n",
      "|  5|       2|Informix 12.10 on...|    4/23/17|http://amzn.to/2i...|\n",
      "+---+--------+--------------------+-----------+--------------------+\n",
      "only showing top 5 rows\n",
      "\n"
     ]
    }
   ],
   "source": [
    "from pyspark.sql import SparkSession\n",
    "import os\n",
    "\n",
    "current_dir = os.getcwd()\n",
    "relative_path = \"data/books.csv\"\n",
    "absolute_file_path = os.path.join(current_dir, relative_path)\n",
    "\n",
    "# Creates a session on a local master\n",
    "session = SparkSession.builder.appName(\"CSV to Dataset\").master(\"local[*]\").getOrCreate()\n",
    "\n",
    "# Reads a CSV file with header, called books.csv, stores it in a dataframe\n",
    "df = session.read.csv(header=True, inferSchema=True, path=absolute_file_path)\n",
    "\n",
    "# Shows at most 5 rows from the dataframe\n",
    "df.show(5)\n",
    "\n",
    "# Good to stop SparkSession at the end of the application\n",
    "session.stop()"
   ]
  },
  {
   "cell_type": "code",
   "execution_count": null,
   "id": "5650b9d8-1cec-42ca-8f4a-d06a0661d3fe",
   "metadata": {},
   "outputs": [],
   "source": []
  }
 ],
 "metadata": {
  "kernelspec": {
   "display_name": "Python 3 (ipykernel)",
   "language": "python",
   "name": "python3"
  },
  "language_info": {
   "codemirror_mode": {
    "name": "ipython",
    "version": 3
   },
   "file_extension": ".py",
   "mimetype": "text/x-python",
   "name": "python",
   "nbconvert_exporter": "python",
   "pygments_lexer": "ipython3",
   "version": "3.11.6"
  }
 },
 "nbformat": 4,
 "nbformat_minor": 5
}
